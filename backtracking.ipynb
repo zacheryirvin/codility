{
  "cells": [
    {
      "cell_type": "markdown",
      "source": [
        "## All Combinations in a Range\n",
        "### Generate all possible [set] combinations in a range between 1 and n\n",
        "\n",
        "#### Steps\n",
        "1. outer function to house the result array / minifiy for calling of function\n",
        "  * takes the ending number and the amount for each sub array\n",
        "```javascript\n",
        "function generateAllCombos(n, k) {\n",
        "  result = []\n",
        "  createAllState(1,n,k,[],result)\n",
        "  return result\n",
        "}\n",
        "```\n",
        "2. inner function that generates all of the combinations\n",
        "  * takes the following:\n",
        "    1. amount to increment by\n",
        "    2. Ending number of the range __n__\n",
        "    3. the number of elements in each sub array __k__\n",
        "    4. the current list\n",
        "    5. the total list housing all of the current lists\n",
        "```javascript\n",
        "function createAllState(increment, totalNumber, level, currentList, totalList) {\n",
        "```\n",
        "  * push the currentList up to the result list / total list if the level === 0\n",
        "  * the level will be decremented by one each time the function is called\n",
        "```javascript\n",
        "  if (level === 0) {\n",
        "    totalList.push(currentList.slice())\n",
        "  }\n",
        "```\n",
        "  * loop starting at the __increment__ \n",
        "  * end if i < (totalNumber - level) + 1\n",
        "  * i++\n",
        "    1. push i into currentList\n",
        "    2. recall createAllState with __i + 1__ and __level__ minus one\n",
        "        * This is where the __if level__ statement comes into play. Kills the call\n",
        "    3. pop the last number off the end of the current list to make room for the next in the sussecutive call\n",
        "```javascript\n",
        "  for (let i = increment; i < (totalNumber - level) + 2; i++) {\n",
        "    currentList.push(i)\n",
        "    createAllState(i + 1, totalNumber, level - 1, currentList, totalList)\n",
        "    currentList.pop()\n",
        "  }\n",
        "```"
      ],
      "metadata": {
        "nteract": {
          "transient": {
            "deleting": false
          }
        }
      }
    },
    {
      "cell_type": "code",
      "source": [
        "function generateAllCombos(n, k) {\n",
        "  result = []\n",
        "  createAllState(1,n,k,[],result)\n",
        "  return result\n",
        "}\n",
        "function createAllState(increment, totalNumber, level, currentList, totalList) {\n",
        "  if (level === 0) {\n",
        "    totalList.push(currentList.slice())\n",
        "    return\n",
        "  }\n",
        "  for ( let i = increment; i < (totalNumber - level) + 2; i++) {\n",
        "    currentList.push(i)\n",
        "    createAllState(i + 1, totalNumber, level-1, currentList, totalList)\n",
        "    currentList.pop()\n",
        "  }\n",
        "}"
      ],
      "outputs": [],
      "execution_count": 143,
      "metadata": {
        "collapsed": true,
        "outputExpanded": false,
        "jupyter": {
          "source_hidden": false,
          "outputs_hidden": false
        },
        "nteract": {
          "transient": {
            "deleting": false
          }
        },
        "execution": {
          "iopub.status.busy": "2020-05-11T02:11:14.316Z",
          "iopub.execute_input": "2020-05-11T02:11:14.318Z",
          "iopub.status.idle": "2020-05-11T02:11:14.321Z",
          "shell.execute_reply": "2020-05-11T02:11:14.323Z"
        }
      }
    },
    {
      "cell_type": "code",
      "source": [
        "generateAllCombos(10,5)"
      ],
      "outputs": [],
      "execution_count": null,
      "metadata": {
        "collapsed": true,
        "outputExpanded": false,
        "jupyter": {
          "source_hidden": false,
          "outputs_hidden": false
        },
        "nteract": {
          "transient": {
            "deleting": false
          }
        },
        "execution": {
          "iopub.status.busy": "2020-05-11T02:17:19.580Z",
          "iopub.execute_input": "2020-05-11T02:17:19.582Z",
          "iopub.status.idle": "2020-05-11T02:17:19.587Z",
          "shell.execute_reply": "2020-05-11T02:17:19.589Z"
        }
      }
    },
    {
      "cell_type": "markdown",
      "source": [
        "## All Permutations\n",
        "1. Takes __sequence__ 'the array of elements to be permutated', __current sequence__ 'the current array of elements the function has generated', __index__ 'current position in the sequence && the check set', __used index__ 'a check array containing booleans that assure a value isn't used twice.\n",
        "```javascript\n",
        "function generatePerms(sequence, currentSequencce, index, usedIndex) {\n",
        "```\n",
        "2. check condition to end the current function\n",
        "  * In this case, check if the index equals the length of the input sequence. If it does then the a complete perm has been created and we need to push that new perm to a result array that lives outside the function and __return__ to end that current function.\n",
        "```javascript\n",
        "  if (index === sequence.length) {\n",
        "    result.push(currentSequence.slice())\n",
        "    return\n",
        "  }\n",
        "```\n",
        "3. loop through the sequence\n",
        "  * check that the index has not been use for the current permutation aka __usedIndex__\n",
        "  * push __i__ to the current sequence\n",
        "  * set the check array corresponding to index of the sequence to false\n",
        "  * recall __perms function__ with an __index + 1__\n",
        "  * pop off the last number in the current sequence to make room for the next call of the __perms function__\n",
        "  * change the check array corresponding to the index of the current sequence back to false to reset for the next call of the __perms function__\n",
        "```javascript\n",
        "for (let i = 0; i < sequence.length; i++) {\n",
        "  if (!usedIndex[i]) {\n",
        "    currentSequence.push(i)\n",
        "    usedIndex[i] = true\n",
        "    generateParams(sequence, currentSequence, index + 1, usedIndex)\n",
        "    currentSequence.pop()\n",
        "    usedIndex[i] = false\n",
        "  }\n",
        "}"
      ],
      "metadata": {
        "nteract": {
          "transient": {
            "deleting": false
          }
        }
      }
    },
    {
      "cell_type": "code",
      "source": [
        "sequence = [3,1,2,4]\n",
        "used = new Array(sequence.length).fill(false)\n",
        "function generatePerms(sequence, currentSequence, index, usedIndex) {\n",
        "  if (index === sequence.length) {\n",
        "    result.push(currentSequence.slice())\n",
        "    return\n",
        "  }\n",
        "  \n",
        "  for (let i = 0; i < sequence.length; i++) {\n",
        "    if (!usedIndex[i]) {\n",
        "      currentSequence.push(sequence[i])\n",
        "      usedIndex[i] = true\n",
        "      generatePerms(sequence, currentSequence, index + 1, usedIndex)\n",
        "      currentSequence.pop()\n",
        "      usedIndex[i] = false\n",
        "    }\n",
        "  }\n",
        "}"
      ],
      "outputs": [
        {
          "output_type": "execute_result",
          "execution_count": 188,
          "data": {
            "text/plain": [
              "[ false, false, false, false ]"
            ]
          },
          "metadata": {}
        }
      ],
      "execution_count": 188,
      "metadata": {
        "collapsed": true,
        "outputExpanded": false,
        "jupyter": {
          "source_hidden": false,
          "outputs_hidden": false
        },
        "nteract": {
          "transient": {
            "deleting": false
          }
        },
        "execution": {
          "iopub.status.busy": "2020-05-11T02:51:54.236Z",
          "iopub.execute_input": "2020-05-11T02:51:54.240Z",
          "iopub.status.idle": "2020-05-11T02:51:54.247Z",
          "shell.execute_reply": "2020-05-11T02:51:54.250Z"
        }
      }
    },
    {
      "cell_type": "code",
      "source": [
        "result = []\n",
        "generatePerms(sequence, [], 0, used)\n",
        "result"
      ],
      "outputs": [],
      "execution_count": null,
      "metadata": {
        "collapsed": true,
        "outputExpanded": false,
        "jupyter": {
          "source_hidden": false,
          "outputs_hidden": false
        },
        "nteract": {
          "transient": {
            "deleting": false
          }
        },
        "execution": {
          "iopub.status.busy": "2020-05-11T11:10:17.379Z",
          "iopub.execute_input": "2020-05-11T11:10:17.382Z",
          "iopub.status.idle": "2020-05-11T11:10:17.391Z",
          "shell.execute_reply": "2020-05-11T11:10:17.394Z"
        }
      }
    },
    {
      "cell_type": "markdown",
      "source": [
        "## Find all Subsequence of an array of elements\n",
        "1. function takes the following arguments\n",
        "  * __sequence__ = The array of element to make subesquences out of \n",
        "  * __currentSequence__ = array to hold the current array of elements\n",
        "  * __index__ = the current position of the function in the sequence\n",
        "```javascript\n",
        "function generateSubsequence(sequence, currentSequence, index) {\n",
        "```\n",
        "2. check if index === sequence.length\n",
        "  * push the current sequence to the results array that lives outside of the function\n",
        "  * return to end the current function\n",
        "```javascript\n",
        "  if (index === sequence.length) {\n",
        "    result.push(currentSequence.slice())\n",
        "    return\n",
        "  }\n",
        "```\n",
        "3. call generateSubsequence again with a __increased index value of 1__\n",
        "4. push the sequence/current index to the current sequence\n",
        "5. call generateSubsequence again with a __increased index value of 1__\n",
        "5. pop the currentSequence to make room for the next function call\n",
        "```javascript\n",
        "  generateSubsequence(sequence, currentSequence, index + 1)\n",
        "  currentSequence.push(sequence[i])\n",
        "  generateSubsequence(sequence, currentSequence, index + 1)\n",
        "  currentSequence.pop()\n",
        "```"
      ],
      "metadata": {
        "nteract": {
          "transient": {
            "deleting": false
          }
        }
      }
    },
    {
      "cell_type": "code",
      "source": [
        "function generateSubsequence(sequence, currentSequence, index) {\n",
        "  if (index == sequence.length) {\n",
        "    result.push(currentSequence.slice())\n",
        "    return\n",
        "  }\n",
        "  \n",
        "  generateSubsequence(sequence, currentSequence, index + 1)\n",
        "  currentSequence.push(sequence[index])\n",
        "  generateSubsequence(sequence, currentSequence, index + 1)\n",
        "  currentSequence.pop()\n",
        "}"
      ],
      "outputs": [],
      "execution_count": 21,
      "metadata": {
        "collapsed": true,
        "outputExpanded": false,
        "jupyter": {
          "source_hidden": false,
          "outputs_hidden": false
        },
        "nteract": {
          "transient": {
            "deleting": false
          }
        },
        "execution": {
          "iopub.status.busy": "2020-05-11T11:19:14.592Z",
          "iopub.execute_input": "2020-05-11T11:19:14.595Z",
          "iopub.status.idle": "2020-05-11T11:19:14.600Z",
          "shell.execute_reply": "2020-05-11T11:19:14.604Z"
        }
      }
    },
    {
      "cell_type": "code",
      "source": [
        "sequence = [3,1,2,4]\n",
        "result = []\n",
        "generateSubsequence(sequence, [], 0)\n",
        "result"
      ],
      "outputs": [
        {
          "output_type": "execute_result",
          "execution_count": 203,
          "data": {
            "text/plain": [
              "[\n",
              "  [],          [ 4 ],\n",
              "  [ 2 ],       [ 2, 4 ],\n",
              "  [ 1 ],       [ 1, 4 ],\n",
              "  [ 1, 2 ],    [ 1, 2, 4 ],\n",
              "  [ 3 ],       [ 3, 4 ],\n",
              "  [ 3, 2 ],    [ 3, 2, 4 ],\n",
              "  [ 3, 1 ],    [ 3, 1, 4 ],\n",
              "  [ 3, 1, 2 ], [ 3, 1, 2, 4 ]\n",
              "]"
            ]
          },
          "metadata": {}
        }
      ],
      "execution_count": 203,
      "metadata": {
        "collapsed": true,
        "outputExpanded": false,
        "jupyter": {
          "source_hidden": false,
          "outputs_hidden": false
        },
        "nteract": {
          "transient": {
            "deleting": false
          }
        },
        "execution": {
          "iopub.status.busy": "2020-05-11T14:26:45.340Z",
          "iopub.execute_input": "2020-05-11T14:26:45.346Z",
          "iopub.status.idle": "2020-05-11T14:26:45.356Z",
          "shell.execute_reply": "2020-05-11T14:26:45.361Z"
        }
      }
    },
    {
      "cell_type": "markdown",
      "source": [
        "## All Combos that sum up to a number in an array\n",
        "1. outer function that take in the __array__, and the __maxNumber__ 'number to sum to'\n",
        "  * Will house the result array, __return__\n",
        "  * path which is the numbers that add to the maxNumber\n",
        "  * index\n",
        "  * remaining nums = sum of numbers not in the path\n",
        "  * call the generate function\n",
        "```javascript\n",
        "function generateSumOfSubsetsWithMax(nums, maxSum) {\n",
        "```\n",
        "2. inner function for all the computation\n",
        "  * takes the __array__, passed in from the outer function\n",
        "  * __maxSum__, passed in from the outer function\n",
        "  * index, path, result, remainingNumsSum\n",
        "```javascript\n",
        "  function generateFunction(nums, maxSum, index, path, result, remainingNumsSum) {\n",
        "```\n",
        "3. check the following:\n",
        "  * sum of the path is greater than maxSum\n",
        "  * sum of path + remainingNumsSum < maxSum\n",
        "  * __End that instance as it doesn't satisfy what is being solved for__\n",
        "```javascript\n",
        "    if(sum(path) > maxSum || (sum(path) + remainingNumsSum) < MaxSum) {\n",
        "      return\n",
        "    }\n",
        "```\n",
        "4. check if sum of the path === maxSum\n",
        "  * push that path to the return array as it satisfies what is being solved for\n",
        "```javascript\n",
        "    if (sum(path) === maxSum) {\n",
        "      result.push(path)\n",
        "      return\n",
        "    }\n",
        "```\n",
        "5. loop starting at the index while i < the array length\n",
        "  * create a temp path to be passed to the generate function on each call\n",
        "  * call the generate function with an increased index of 1 and the remainingNumsSum  as __(remainingNumsSum - num[i])__ 'what is being pushed to the path'\n",
        "```javascript\n",
        "    for (let i = index, i < nums.length; i++) {\n",
        "      temp = path.slice()\n",
        "      temp.push(nums[i])\n",
        "      generateFunction(nums, maxSum, i+1, temp, result, remainingNumsSum - nums[i])\n",
        "    }\n",
        "```"
      ],
      "metadata": {
        "nteract": {
          "transient": {
            "deleting": false
          }
        }
      }
    },
    {
      "cell_type": "code",
      "source": [
        "function sum(arr) {\n",
        "  if (arr.length) {\n",
        "    return arr.reduce((a,b) => a+b)\n",
        "  } else {\n",
        "    return 0\n",
        "  }\n",
        "}\n",
        "function generateSumOfSubsetsWithMax(nums, maxSum) {\n",
        "  result = []\n",
        "  path = []\n",
        "  index = 0\n",
        "  remainingNumsSum = sum(nums)\n",
        "  generateFunction(nums, maxSum, index, path, result, remainingNumsSum)\n",
        "  return result\n",
        "  \n",
        "  function generateFunction(nums, maxSum, index, path, result, remainingNumsSum) {\n",
        "    if (sum(path) > maxSum || (remainingNumsSum + sum(path)) < maxSum) {\n",
        "      return\n",
        "    }\n",
        "    if (sum(path) === maxSum) {\n",
        "      result.push(path)\n",
        "      return\n",
        "    }\n",
        "    for (let i = index; i < nums.length; i++) {\n",
        "      temp = path.slice()\n",
        "      temp.push(nums[i])\n",
        "      generateFunction(nums, maxSum, i+1, temp, result, remainingNumsSum - nums[i])\n",
        "    }\n",
        "  }\n",
        "}"
      ],
      "outputs": [],
      "execution_count": 201,
      "metadata": {
        "collapsed": true,
        "outputExpanded": false,
        "jupyter": {
          "source_hidden": false,
          "outputs_hidden": false
        },
        "nteract": {
          "transient": {
            "deleting": false
          }
        },
        "execution": {
          "iopub.status.busy": "2020-05-11T14:04:32.196Z",
          "iopub.execute_input": "2020-05-11T14:04:32.203Z",
          "iopub.status.idle": "2020-05-11T14:04:32.210Z",
          "shell.execute_reply": "2020-05-11T14:04:32.214Z"
        }
      }
    },
    {
      "cell_type": "code",
      "source": [
        "nums = [3,34,4,12,5,2]\n",
        "maxSum = 9\n",
        "generateSumOfSubsetsWithMax(nums, maxSum)\n"
      ],
      "outputs": [
        {
          "output_type": "execute_result",
          "execution_count": 204,
          "data": {
            "text/plain": [
              "[ [ 3, 4, 2 ], [ 4, 5 ] ]"
            ]
          },
          "metadata": {}
        }
      ],
      "execution_count": 204,
      "metadata": {
        "collapsed": true,
        "outputExpanded": false,
        "jupyter": {
          "source_hidden": false,
          "outputs_hidden": false
        },
        "nteract": {
          "transient": {
            "deleting": false
          }
        },
        "execution": {
          "iopub.status.busy": "2020-05-11T14:41:51.347Z",
          "iopub.execute_input": "2020-05-11T14:41:51.352Z",
          "iopub.status.idle": "2020-05-11T14:41:51.362Z",
          "shell.execute_reply": "2020-05-11T14:41:51.366Z"
        }
      }
    },
    {
      "cell_type": "code",
      "source": [
        "gen = (arr, sumAns, index, path, result, remainder) => {\n",
        "  if (sum(path) > sumAns || (sum(path) + remainder) < sumAns) {\n",
        "    return\n",
        "  }\n",
        "  if (sum(path) === sumAns) {\n",
        "    result.push(path)\n",
        "    return\n",
        "  }\n",
        "  \n",
        "  for (let i = index; i < arr.length; i++) {\n",
        "    temp = path.slice()\n",
        "    temp.push(arr[i])\n",
        "    gen(arr, sumAns, i + 1, temp, result, remainder - arr[i])\n",
        "  }\n",
        "}"
      ],
      "outputs": [
        {
          "output_type": "execute_result",
          "execution_count": 205,
          "data": {
            "text/plain": [
              "[Function: gen]"
            ]
          },
          "metadata": {}
        }
      ],
      "execution_count": 205,
      "metadata": {
        "collapsed": true,
        "outputExpanded": false,
        "jupyter": {
          "source_hidden": false,
          "outputs_hidden": false
        },
        "nteract": {
          "transient": {
            "deleting": false
          }
        },
        "execution": {
          "iopub.status.busy": "2020-05-11T14:46:27.792Z",
          "iopub.execute_input": "2020-05-11T14:46:27.796Z",
          "iopub.status.idle": "2020-05-11T14:46:27.806Z",
          "shell.execute_reply": "2020-05-11T14:46:27.810Z"
        }
      }
    },
    {
      "cell_type": "code",
      "source": [
        "result = []\n",
        "path = []\n",
        "remainder = sum(arr)\n",
        "index = 0\n",
        "gen(nums, 9, index, path, result, remainder)\n",
        "result"
      ],
      "outputs": [
        {
          "output_type": "execute_result",
          "execution_count": 207,
          "data": {
            "text/plain": [
              "[ [ 3, 4, 2 ], [ 4, 5 ] ]"
            ]
          },
          "metadata": {}
        }
      ],
      "execution_count": 207,
      "metadata": {
        "collapsed": true,
        "outputExpanded": false,
        "jupyter": {
          "source_hidden": false,
          "outputs_hidden": false
        },
        "nteract": {
          "transient": {
            "deleting": false
          }
        },
        "execution": {
          "iopub.status.busy": "2020-05-11T14:48:10.871Z",
          "iopub.execute_input": "2020-05-11T14:48:10.875Z",
          "iopub.status.idle": "2020-05-11T14:48:10.885Z",
          "shell.execute_reply": "2020-05-11T14:48:10.890Z"
        }
      }
    }
  ],
  "metadata": {
    "kernel_info": {
      "name": "python3"
    },
    "language_info": {
      "name": "javascript",
      "version": "12.10.0",
      "mimetype": "application/javascript",
      "file_extension": ".js"
    },
    "kernelspec": {
      "argv": [
        "/home/zac/anaconda3/bin/python",
        "-m",
        "ipykernel_launcher",
        "-f",
        "{connection_file}"
      ],
      "display_name": "Python 3",
      "language": "python",
      "name": "python3"
    },
    "nteract": {
      "version": "0.23.1"
    }
  },
  "nbformat": 4,
  "nbformat_minor": 0
}