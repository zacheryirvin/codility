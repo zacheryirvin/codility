{
  "cells": [
    {
      "cell_type": "markdown",
      "source": [
        "### Concsecutive Zeros in Binary\n",
        "1. Conver to binary number\n",
        "2. find the most consecutive zeros in the binary string"
      ],
      "metadata": {
        "nteract": {
          "transient": {
            "deleting": false
          }
        }
      }
    },
    {
      "cell_type": "code",
      "source": [
        "numberToBinary = (num) => {\n",
        "  return (num).toString(2)\n",
        "}"
      ],
      "outputs": [
        {
          "output_type": "execute_result",
          "execution_count": 1,
          "data": {
            "text/plain": [
              "[Function: numberToBinary]"
            ]
          },
          "metadata": {}
        }
      ],
      "execution_count": 1,
      "metadata": {
        "collapsed": true,
        "outputExpanded": false,
        "jupyter": {
          "source_hidden": false,
          "outputs_hidden": false
        },
        "nteract": {
          "transient": {
            "deleting": false
          }
        },
        "execution": {
          "iopub.status.busy": "2020-05-10T13:35:50.760Z",
          "iopub.execute_input": "2020-05-10T13:35:50.771Z",
          "iopub.status.idle": "2020-05-10T13:35:50.788Z",
          "shell.execute_reply": "2020-05-10T13:35:50.365Z"
        }
      }
    },
    {
      "cell_type": "code",
      "source": [
        "consecZeros = (num) => {\n",
        "  bin = (num).toString(2)\n",
        "  index = 0\n",
        "  count = 0\n",
        "  while (bin[index + 1]) {\n",
        "    temp = 0\n",
        "    innerIndex = index\n",
        "    if (bin[index] === '0') {\n",
        "      temp++\n",
        "      innerIndex = index + 1\n",
        "      while (bin[innerIndex] === '0') {\n",
        "        temp++\n",
        "        innerIndex++\n",
        "      }\n",
        "      index = innerIndex\n",
        "      if (bin[innerIndex] === '1') {\n",
        "        if (temp > count) {\n",
        "          count = temp\n",
        "        }\n",
        "      }\n",
        "    } else {\n",
        "      index++\n",
        "    }\n",
        "  }\n",
        "  return count\n",
        "}"
      ],
      "outputs": [
        {
          "output_type": "execute_result",
          "execution_count": 2,
          "data": {
            "text/plain": [
              "[Function: consecZeros]"
            ]
          },
          "metadata": {}
        }
      ],
      "execution_count": 2,
      "metadata": {
        "collapsed": true,
        "outputExpanded": false,
        "jupyter": {
          "source_hidden": false,
          "outputs_hidden": false
        },
        "nteract": {
          "transient": {
            "deleting": false
          }
        },
        "execution": {
          "iopub.status.busy": "2020-05-10T13:35:50.805Z",
          "iopub.execute_input": "2020-05-10T13:35:50.815Z",
          "iopub.status.idle": "2020-05-10T13:35:50.835Z",
          "shell.execute_reply": "2020-05-10T13:35:50.376Z"
        }
      }
    },
    {
      "cell_type": "code",
      "source": [
        "console.log((64711234564873431245878853231456486).toString(2))\n",
        "consecZeros(64711234564873431245878853231456486)"
      ],
      "outputs": [
        {
          "output_type": "stream",
          "name": "stdout",
          "text": [
            "11000111011010000010100110111111011001101111010001100000000000000000000000000000000000000000000000000000000000000000\n"
          ]
        },
        {
          "output_type": "execute_result",
          "execution_count": 3,
          "data": {
            "text/plain": [
              "5"
            ]
          },
          "metadata": {}
        }
      ],
      "execution_count": 3,
      "metadata": {
        "collapsed": true,
        "outputExpanded": false,
        "jupyter": {
          "source_hidden": false,
          "outputs_hidden": false
        },
        "nteract": {
          "transient": {
            "deleting": false
          }
        },
        "execution": {
          "iopub.status.busy": "2020-05-10T13:35:50.852Z",
          "iopub.execute_input": "2020-05-10T13:35:50.862Z",
          "iopub.status.idle": "2020-05-10T13:35:50.884Z",
          "shell.execute_reply": "2020-05-10T13:35:50.387Z"
        }
      }
    },
    {
      "cell_type": "markdown",
      "source": [
        "## Rotate Array\n",
        "1. Function should take an array __A__ and rotate it to the right __k__ times."
      ],
      "metadata": {
        "nteract": {
          "transient": {
            "deleting": false
          }
        }
      }
    },
    {
      "cell_type": "code",
      "source": [
        "function rotate(a, k) {\n",
        "  numberToRotate = k * -1\n",
        "  temp = a\n",
        "  tempToReverse = temp.slice(numberToRotate)\n",
        "  temp.splice(numberToRotate)\n",
        "  tempToReverse.push(temp)\n",
        "  return tempToReverse.flat()\n",
        "}"
      ],
      "outputs": [],
      "execution_count": 4,
      "metadata": {
        "collapsed": true,
        "outputExpanded": false,
        "jupyter": {
          "source_hidden": false,
          "outputs_hidden": false
        },
        "nteract": {
          "transient": {
            "deleting": false
          }
        },
        "execution": {
          "iopub.status.busy": "2020-05-10T13:35:50.900Z",
          "iopub.execute_input": "2020-05-10T13:35:50.910Z",
          "iopub.status.idle": "2020-05-10T13:35:50.921Z",
          "shell.execute_reply": "2020-05-10T13:35:50.397Z"
        }
      }
    },
    {
      "cell_type": "code",
      "source": [
        "tempy = [3,8,9,7,6]\n",
        "rotate(tempy, 3)"
      ],
      "outputs": [
        {
          "output_type": "execute_result",
          "execution_count": 5,
          "data": {
            "text/plain": [
              "[ 9, 7, 6, 3, 8 ]"
            ]
          },
          "metadata": {}
        }
      ],
      "execution_count": 5,
      "metadata": {
        "collapsed": true,
        "outputExpanded": false,
        "jupyter": {
          "source_hidden": false,
          "outputs_hidden": false
        },
        "nteract": {
          "transient": {
            "deleting": false
          }
        },
        "execution": {
          "iopub.status.busy": "2020-05-10T13:35:50.937Z",
          "iopub.execute_input": "2020-05-10T13:35:50.947Z",
          "iopub.status.idle": "2020-05-10T13:35:50.964Z",
          "shell.execute_reply": "2020-05-10T13:35:50.408Z"
        }
      }
    },
    {
      "cell_type": "markdown",
      "source": [
        "## Find the Remaining number\n",
        "1. A non-empty array A consisting of N integers is given. The array contains an odd number of elements, and each element of the array can be paired with another element that has the same value, except for one element that is left unpaired."
      ],
      "metadata": {
        "nteract": {
          "transient": {
            "deleting": false
          }
        }
      }
    },
    {
      "cell_type": "code",
      "source": [
        "tempArr = [9,3,9,3,9,7,9]\n",
        "function remainder(arr) {\n",
        "  theDict = {}\n",
        "  theSet = new Set()\n",
        "  tempArr.forEach(x => {\n",
        "    theSet.add(x)\n",
        "    if (theDict[x]) {\n",
        "      theDict[x] += 1\n",
        "    } else {\n",
        "      theDict[x] = 1\n",
        "    }\n",
        "  })\n",
        "  console.log(theSet)\n",
        "  returnNumber = null\n",
        "  theSet.forEach(x => {\n",
        "    if (theDict[x] % 2 === 1) {\n",
        "      returnNumber = x\n",
        "    }\n",
        "  })\n",
        "  return returnNumber\n",
        "}"
      ],
      "outputs": [
        {
          "output_type": "execute_result",
          "execution_count": 6,
          "data": {
            "text/plain": [
              "[\n",
              "  9, 3, 9, 3,\n",
              "  9, 7, 9\n",
              "]"
            ]
          },
          "metadata": {}
        }
      ],
      "execution_count": 6,
      "metadata": {
        "collapsed": true,
        "outputExpanded": false,
        "jupyter": {
          "source_hidden": false,
          "outputs_hidden": false
        },
        "nteract": {
          "transient": {
            "deleting": false
          }
        },
        "execution": {
          "iopub.status.busy": "2020-05-10T13:35:50.979Z",
          "iopub.execute_input": "2020-05-10T13:35:50.990Z",
          "iopub.status.idle": "2020-05-10T13:35:51.007Z",
          "shell.execute_reply": "2020-05-10T13:35:50.418Z"
        }
      }
    },
    {
      "cell_type": "code",
      "source": [
        "remainder(tempArr)"
      ],
      "outputs": [
        {
          "output_type": "stream",
          "name": "stdout",
          "text": [
            "Set { 9, 3, 7 }\n"
          ]
        },
        {
          "output_type": "execute_result",
          "execution_count": 7,
          "data": {
            "text/plain": [
              "7"
            ]
          },
          "metadata": {}
        }
      ],
      "execution_count": 7,
      "metadata": {
        "collapsed": true,
        "outputExpanded": false,
        "jupyter": {
          "source_hidden": false,
          "outputs_hidden": false
        },
        "nteract": {
          "transient": {
            "deleting": false
          }
        },
        "execution": {
          "iopub.status.busy": "2020-05-10T13:35:51.024Z",
          "iopub.execute_input": "2020-05-10T13:35:51.034Z",
          "iopub.status.idle": "2020-05-10T13:35:51.056Z",
          "shell.execute_reply": "2020-05-10T13:35:50.428Z"
        }
      }
    },
    {
      "cell_type": "markdown",
      "source": [
        "## Number of Jumps\n",
        "1. A small frog wants to get to the other side of the road. The frog is currently located at position X and wants to get to a position greater than or equal to Y. The small frog always jumps a fixed distance, D.\n",
        "\n",
        "Count the minimal number of jumps that the small frog must perform to reach its target."
      ],
      "metadata": {
        "nteract": {
          "transient": {
            "deleting": false
          }
        }
      }
    },
    {
      "cell_type": "code",
      "source": [
        "countJumps = (x,y,d) => {\n",
        "  jumps = 0\n",
        "  if (x < y) {\n",
        "    x += d\n",
        "    jumps++\n",
        "    jumps += countJumps(x,y,d)\n",
        "  }\n",
        "  return jumps\n",
        "}"
      ],
      "outputs": [
        {
          "output_type": "execute_result",
          "execution_count": 8,
          "data": {
            "text/plain": [
              "[Function: countJumps]"
            ]
          },
          "metadata": {}
        }
      ],
      "execution_count": 8,
      "metadata": {
        "collapsed": true,
        "outputExpanded": false,
        "jupyter": {
          "source_hidden": false,
          "outputs_hidden": false
        },
        "nteract": {
          "transient": {
            "deleting": false
          }
        },
        "execution": {
          "iopub.status.busy": "2020-05-10T13:35:51.072Z",
          "iopub.execute_input": "2020-05-10T13:35:51.082Z",
          "iopub.status.idle": "2020-05-10T13:35:51.099Z",
          "shell.execute_reply": "2020-05-10T13:35:50.439Z"
        }
      }
    },
    {
      "cell_type": "code",
      "source": [
        "countJumps(10,85,30)"
      ],
      "outputs": [
        {
          "output_type": "execute_result",
          "execution_count": 9,
          "data": {
            "text/plain": [
              "3"
            ]
          },
          "metadata": {}
        }
      ],
      "execution_count": 9,
      "metadata": {
        "collapsed": true,
        "outputExpanded": false,
        "jupyter": {
          "source_hidden": false,
          "outputs_hidden": false
        },
        "nteract": {
          "transient": {
            "deleting": false
          }
        },
        "execution": {
          "iopub.status.busy": "2020-05-10T13:35:51.114Z",
          "iopub.execute_input": "2020-05-10T13:35:51.124Z",
          "iopub.status.idle": "2020-05-10T13:35:51.142Z",
          "shell.execute_reply": "2020-05-10T13:35:50.450Z"
        }
      }
    },
    {
      "cell_type": "markdown",
      "source": [
        "## Find the missing number\n",
        "An array A consisting of N different integers is given. The array contains integers in the range [1..(N + 1)], which means that exactly one element is missing.\n",
        "\n",
        "Your goal is to find that missing element."
      ],
      "metadata": {
        "nteract": {
          "transient": {
            "deleting": false
          }
        }
      }
    },
    {
      "cell_type": "code",
      "source": [
        "testArr = [2,3,1,5].sort()\n",
        "function missingNum(arr) {\n",
        "  temp = arr.sort()\n",
        "  missingNumb = null\n",
        "  for (let i = 0; i < temp.length; i++) {\n",
        "    toAdd = i + temp[0]\n",
        "    if (toAdd !== temp[i]) {\n",
        "      missingNumb = toAdd\n",
        "      break\n",
        "    }\n",
        "  }\n",
        "  return missingNumb\n",
        "}"
      ],
      "outputs": [
        {
          "output_type": "execute_result",
          "execution_count": 10,
          "data": {
            "text/plain": [
              "[ 1, 2, 3, 5 ]"
            ]
          },
          "metadata": {}
        }
      ],
      "execution_count": 10,
      "metadata": {
        "collapsed": true,
        "outputExpanded": false,
        "jupyter": {
          "source_hidden": false,
          "outputs_hidden": false
        },
        "nteract": {
          "transient": {
            "deleting": false
          }
        },
        "execution": {
          "iopub.status.busy": "2020-05-10T13:35:51.160Z",
          "iopub.execute_input": "2020-05-10T13:35:51.170Z",
          "iopub.status.idle": "2020-05-10T13:35:51.187Z",
          "shell.execute_reply": "2020-05-10T13:35:50.461Z"
        }
      }
    },
    {
      "cell_type": "code",
      "source": [
        "missingNum(testArr)"
      ],
      "outputs": [
        {
          "output_type": "execute_result",
          "execution_count": 11,
          "data": {
            "text/plain": [
              "4"
            ]
          },
          "metadata": {}
        }
      ],
      "execution_count": 11,
      "metadata": {
        "collapsed": true,
        "outputExpanded": false,
        "jupyter": {
          "source_hidden": false,
          "outputs_hidden": false
        },
        "nteract": {
          "transient": {
            "deleting": false
          }
        },
        "execution": {
          "iopub.status.busy": "2020-05-10T13:35:51.204Z",
          "iopub.execute_input": "2020-05-10T13:35:51.217Z",
          "iopub.status.idle": "2020-05-10T13:35:51.233Z",
          "shell.execute_reply": "2020-05-10T13:35:50.471Z"
        }
      }
    },
    {
      "cell_type": "markdown",
      "source": [
        "## Find lowest subtraction\n",
        "A non-empty array A consisting of N integers is given. Array A represents numbers on a tape.\n",
        "\n",
        "Any integer P, such that 0 < P < N, splits this tape into two non-empty parts: A[0], A[1], ..., A[P − 1] and A[P], A[P + 1], ..., A[N − 1].\n",
        "\n",
        "The difference between the two parts is the value of: |(A[0] + A[1] + ... + A[P − 1]) − (A[P] + A[P + 1] + ... + A[N − 1])|\n",
        "\n",
        "In other words, it is the absolute difference between the sum of the first part and the sum of the second part."
      ],
      "metadata": {
        "nteract": {
          "transient": {
            "deleting": false
          }
        }
      }
    },
    {
      "cell_type": "code",
      "source": [
        "tempArray = [3,1,2,4,3]\n",
        "tempArray.slice(1)\n",
        "function splitAndSubtract(arr) {\n",
        "  num = null\n",
        "  for (let i = 0; i < tempArray.length - 1; i++) {\n",
        "    firstHalf = tempArray.slice(0, i+1)\n",
        "    secondHalf = tempArray.slice(i+1)\n",
        "    function sum(arr) {\n",
        "      return arr.reduce((a,b) => a+b)\n",
        "    }\n",
        "    subtracted = sum(firstHalf) - sum(secondHalf)\n",
        "    if (subtracted < 0) {\n",
        "      subtracted *= -1\n",
        "    }\n",
        "    if (num === null || subtracted < num) {\n",
        "      num = subtracted\n",
        "    }\n",
        "  }\n",
        "  return num\n",
        "}"
      ],
      "outputs": [
        {
          "output_type": "execute_result",
          "execution_count": 12,
          "data": {
            "text/plain": [
              "[ 1, 2, 4, 3 ]"
            ]
          },
          "metadata": {}
        }
      ],
      "execution_count": 12,
      "metadata": {
        "collapsed": true,
        "outputExpanded": false,
        "jupyter": {
          "source_hidden": false,
          "outputs_hidden": false
        },
        "nteract": {
          "transient": {
            "deleting": false
          }
        },
        "execution": {
          "iopub.status.busy": "2020-05-10T13:35:51.249Z",
          "iopub.execute_input": "2020-05-10T13:35:51.259Z",
          "iopub.status.idle": "2020-05-10T13:35:51.276Z",
          "shell.execute_reply": "2020-05-10T13:35:50.482Z"
        }
      }
    },
    {
      "cell_type": "code",
      "source": [
        "splitAndSubtract(tempArray)"
      ],
      "outputs": [
        {
          "output_type": "execute_result",
          "execution_count": 13,
          "data": {
            "text/plain": [
              "1"
            ]
          },
          "metadata": {}
        }
      ],
      "execution_count": 13,
      "metadata": {
        "collapsed": true,
        "outputExpanded": false,
        "jupyter": {
          "source_hidden": false,
          "outputs_hidden": false
        },
        "nteract": {
          "transient": {
            "deleting": false
          }
        },
        "execution": {
          "iopub.status.busy": "2020-05-10T13:35:51.293Z",
          "iopub.execute_input": "2020-05-10T13:35:51.303Z",
          "iopub.status.idle": "2020-05-10T13:35:51.321Z",
          "shell.execute_reply": "2020-05-10T13:35:50.493Z"
        }
      }
    },
    {
      "cell_type": "markdown",
      "source": [
        "## Find the amount of time for path to appear\n",
        "A small frog wants to get to the other side of a river. The frog is initially located on one bank of the river (position 0) and wants to get to the opposite bank (position X+1). Leaves fall from a tree onto the surface of the river.\n",
        "\n",
        "You are given an array A consisting of N integers representing the falling leaves. A[K] represents the position where one leaf falls at time K, measured in seconds.\n",
        "\n",
        "The goal is to find the earliest time when the frog can jump to the other side of the river. The frog can cross only when leaves appear at every position across the river from 1 to X (that is, we want to find the earliest moment when all the positions from 1 to X are covered by leaves). You may assume that the speed of the current in the river is negligibly small, i.e. the leaves do not change their positions once they fall in the river."
      ],
      "metadata": {
        "nteract": {
          "transient": {
            "deleting": false
          }
        }
      }
    },
    {
      "cell_type": "code",
      "source": [
        "theArr = [1,3,1,4,2,3,5,4]\n",
        "function findThePath(arr, end) {\n",
        "  start = theArr.slice().sort()[0]\n",
        "  theSet = new Set()\n",
        "  theObj = {}\n",
        "  currentLongest = -1\n",
        "  for (let i = start; i <= end; i++) {\n",
        "    theSet.add(i)\n",
        "  }\n",
        "  for (let i = 0; i < arr.length; i++) {\n",
        "    test = theSet.delete(arr[i])\n",
        "    if (test) {\n",
        "      currentLongest = i\n",
        "    }\n",
        "    if (theSet.size === 0) {\n",
        "      break\n",
        "    }\n",
        "  }\n",
        "  if (theSet.size !== 0) {\n",
        "    currentLongest = -1 \n",
        "  }\n",
        "  return currentLongest\n",
        "}"
      ],
      "outputs": [
        {
          "output_type": "execute_result",
          "execution_count": 14,
          "data": {
            "text/plain": [
              "[\n",
              "  1, 3, 1, 4,\n",
              "  2, 3, 5, 4\n",
              "]"
            ]
          },
          "metadata": {}
        }
      ],
      "execution_count": 14,
      "metadata": {
        "collapsed": true,
        "outputExpanded": false,
        "jupyter": {
          "source_hidden": false,
          "outputs_hidden": false
        },
        "nteract": {
          "transient": {
            "deleting": false
          }
        },
        "execution": {
          "iopub.status.busy": "2020-05-10T13:35:51.336Z",
          "iopub.execute_input": "2020-05-10T13:35:51.349Z",
          "iopub.status.idle": "2020-05-10T13:35:51.366Z",
          "shell.execute_reply": "2020-05-10T13:35:50.503Z"
        }
      }
    },
    {
      "cell_type": "code",
      "source": [
        "set = findThePath(theArr, 5)"
      ],
      "outputs": [
        {
          "output_type": "execute_result",
          "execution_count": 15,
          "data": {
            "text/plain": [
              "6"
            ]
          },
          "metadata": {}
        }
      ],
      "execution_count": 15,
      "metadata": {
        "collapsed": true,
        "outputExpanded": false,
        "jupyter": {
          "source_hidden": false,
          "outputs_hidden": false
        },
        "nteract": {
          "transient": {
            "deleting": false
          }
        },
        "execution": {
          "iopub.status.busy": "2020-05-10T13:35:51.383Z",
          "iopub.execute_input": "2020-05-10T13:35:51.393Z",
          "iopub.status.idle": "2020-05-10T13:35:51.412Z",
          "shell.execute_reply": "2020-05-10T13:35:50.513Z"
        }
      }
    },
    {
      "cell_type": "markdown",
      "source": [
        "## Array Addition\n",
        "You are given N counters, initially set to 0, and you have two possible operations on them:\n",
        "\n",
        "   increase(X) − counter X is increased by 1,\n",
        "   max counter − all counters are set to the maximum value of any counter.\n",
        "\n",
        "A non-empty array A of M integers is given. This array represents consecutive operations:\n",
        "\n",
        "   if A[K] = X, such that 1 ≤ X ≤ N, then operation K is increase(X),\n",
        "   if A[K] = N + 1 then operation K is max counter.\n"
      ],
      "metadata": {
        "nteract": {
          "transient": {
            "deleting": false
          }
        }
      }
    },
    {
      "cell_type": "code",
      "source": [
        "testArr = [3,4,4,6,1,4,4]\n",
        "n = 5\n",
        "function arrayAddition(arr, size) {\n",
        "  temp = new Array(size).fill(0)\n",
        "  dict = {}\n",
        "  largest = 0\n",
        "  temp.forEach((x,i) => {\n",
        "    dict[i] = x\n",
        "  })\n",
        "  arr.forEach(x => {\n",
        "    if (x === n + 1) {\n",
        "      for ([key,value] of Object.entries(dict)) {\n",
        "        dict[key] = largest\n",
        "      }\n",
        "    } else {\n",
        "      dict[x-1] += 1  \n",
        "      largest = dict[x-1]\n",
        "    }\n",
        "  })\n",
        "  return Object.values(dict)\n",
        "}"
      ],
      "outputs": [
        {
          "output_type": "execute_result",
          "execution_count": 16,
          "data": {
            "text/plain": [
              "5"
            ]
          },
          "metadata": {}
        }
      ],
      "execution_count": 16,
      "metadata": {
        "collapsed": true,
        "outputExpanded": false,
        "jupyter": {
          "source_hidden": false,
          "outputs_hidden": false
        },
        "nteract": {
          "transient": {
            "deleting": false
          }
        },
        "execution": {
          "iopub.status.busy": "2020-05-10T13:35:51.428Z",
          "iopub.execute_input": "2020-05-10T13:35:51.438Z",
          "iopub.status.idle": "2020-05-10T13:35:51.455Z",
          "shell.execute_reply": "2020-05-10T13:35:50.523Z"
        }
      }
    },
    {
      "cell_type": "code",
      "source": [
        "arrayAddition(testArr, 5)"
      ],
      "outputs": [
        {
          "output_type": "execute_result",
          "execution_count": 17,
          "data": {
            "text/plain": [
              "[ 3, 2, 2, 4, 2 ]"
            ]
          },
          "metadata": {}
        }
      ],
      "execution_count": 17,
      "metadata": {
        "collapsed": true,
        "outputExpanded": false,
        "jupyter": {
          "source_hidden": false,
          "outputs_hidden": false
        },
        "nteract": {
          "transient": {
            "deleting": false
          }
        },
        "execution": {
          "iopub.status.busy": "2020-05-10T13:35:51.471Z",
          "iopub.execute_input": "2020-05-10T13:35:51.481Z",
          "iopub.status.idle": "2020-05-10T13:35:51.498Z",
          "shell.execute_reply": "2020-05-10T13:35:50.534Z"
        }
      }
    },
    {
      "cell_type": "markdown",
      "source": [
        "## Missing Integer\n",
        "Write a function:\n",
        "\n",
        "    function solution(A);\n",
        "\n",
        "that, given an array A of N integers, returns the smallest positive integer (greater than 0) that does not occur in A.\n",
        "\n",
        "For example, given A = [1, 3, 6, 4, 1, 2], the function should return 5."
      ],
      "metadata": {
        "nteract": {
          "transient": {
            "deleting": false
          }
        }
      }
    },
    {
      "cell_type": "code",
      "source": [
        "testArr = [1,3,6,4,1,2]\n",
        "secondArr = [-1,-2,-3, 1,2]\n",
        "function missingInteger(arr) {\n",
        "  temp = arr.slice().sort((a,b) => a-b)\n",
        "  console.log(temp)\n",
        "  set = new Set()\n",
        "  temp.forEach(x => {\n",
        "    set.add(x)\n",
        "  })\n",
        "  \n",
        "  \n",
        "  current = null\n",
        "  set.forEach(x => {\n",
        "    console.log(current)\n",
        "    if (!set.has(x + 1) && x !== Array.from(set).pop()) {\n",
        "      current = x + 1\n",
        "    } else if (current === 0 && x === Array.from(set).pop() && set.has(1)) {\n",
        "      current = x + 1\n",
        "    }\n",
        "  })\n",
        "  if (current <= 0) {\n",
        "    current = 1\n",
        "  }\n",
        "  return current\n",
        "}"
      ],
      "outputs": [
        {
          "output_type": "execute_result",
          "execution_count": 18,
          "data": {
            "text/plain": [
              "[ -1, -2, -3, 1, 2 ]"
            ]
          },
          "metadata": {}
        }
      ],
      "execution_count": 18,
      "metadata": {
        "collapsed": true,
        "outputExpanded": false,
        "jupyter": {
          "source_hidden": false,
          "outputs_hidden": false
        },
        "nteract": {
          "transient": {
            "deleting": false
          }
        },
        "execution": {
          "iopub.status.busy": "2020-05-10T13:35:51.514Z",
          "iopub.execute_input": "2020-05-10T13:35:51.524Z",
          "iopub.status.idle": "2020-05-10T13:35:51.542Z",
          "shell.execute_reply": "2020-05-10T13:35:50.544Z"
        }
      }
    },
    {
      "cell_type": "code",
      "source": [
        "missingInteger(secondArr)"
      ],
      "outputs": [
        {
          "output_type": "stream",
          "name": "stdout",
          "text": [
            "[ -3, -2, -1, 1, 2 ]\n",
            "null\n",
            "null\n",
            "null\n",
            "0\n",
            "0\n"
          ]
        },
        {
          "output_type": "execute_result",
          "execution_count": 19,
          "data": {
            "text/plain": [
              "3"
            ]
          },
          "metadata": {}
        }
      ],
      "execution_count": 19,
      "metadata": {
        "collapsed": true,
        "outputExpanded": false,
        "jupyter": {
          "source_hidden": false,
          "outputs_hidden": false
        },
        "nteract": {
          "transient": {
            "deleting": false
          }
        },
        "execution": {
          "iopub.status.busy": "2020-05-10T13:35:51.558Z",
          "iopub.execute_input": "2020-05-10T13:35:51.570Z",
          "iopub.status.idle": "2020-05-10T13:35:51.624Z",
          "shell.execute_reply": "2020-05-10T13:35:50.555Z"
        }
      }
    },
    {
      "cell_type": "markdown",
      "source": [
        "## Find divisibles in a Range\n",
        "Write a function:\n",
        "\n",
        "    function solution(A, B, K);\n",
        "\n",
        "that, given three integers A, B and K, returns the number of integers within the range [A..B] that are divisible by K, i.e.:\n",
        "\n",
        "    { i : A ≤ i ≤ B, i mod K = 0 }\n",
        "\n",
        "For example, for A = 6, B = 11 and K = 2, your function should return 3, because there are three numbers divisible by 2 within the range [6..11], namely 6, 8 and 10."
      ],
      "metadata": {
        "nteract": {
          "transient": {
            "deleting": false
          }
        }
      }
    },
    {
      "cell_type": "code",
      "source": [
        "function findDivisbles(min, max, div) {\n",
        "  first = Math.floor((min - 1) / div)\n",
        "  second = Math.floor(max / div) \n",
        "  return second - first\n",
        "}"
      ],
      "outputs": [],
      "execution_count": 20,
      "metadata": {
        "collapsed": true,
        "outputExpanded": false,
        "jupyter": {
          "source_hidden": false,
          "outputs_hidden": false
        },
        "nteract": {
          "transient": {
            "deleting": false
          }
        },
        "execution": {
          "iopub.status.busy": "2020-05-10T13:35:51.640Z",
          "iopub.execute_input": "2020-05-10T13:35:51.652Z",
          "iopub.status.idle": "2020-05-10T13:35:51.663Z",
          "shell.execute_reply": "2020-05-10T13:35:50.565Z"
        }
      }
    },
    {
      "cell_type": "code",
      "source": [
        "findDivisbles(6, 11, 2)"
      ],
      "outputs": [
        {
          "output_type": "execute_result",
          "execution_count": 21,
          "data": {
            "text/plain": [
              "3"
            ]
          },
          "metadata": {}
        }
      ],
      "execution_count": 21,
      "metadata": {
        "collapsed": true,
        "outputExpanded": false,
        "jupyter": {
          "source_hidden": false,
          "outputs_hidden": false
        },
        "nteract": {
          "transient": {
            "deleting": false
          }
        },
        "execution": {
          "iopub.status.busy": "2020-05-10T13:35:51.680Z",
          "iopub.execute_input": "2020-05-10T13:35:51.691Z",
          "iopub.status.idle": "2020-05-10T13:35:51.711Z",
          "shell.execute_reply": "2020-05-10T13:35:50.576Z"
        }
      }
    },
    {
      "cell_type": "markdown",
      "source": [
        "## Min avg slice of array\n",
        "Write a function:\n",
        "\n",
        "    function solution(A);\n",
        "\n",
        "that, given a non-empty array A consisting of N integers, returns the starting position of the slice with the minimal average. If there is more than one slice with a minimal average, you should return the smallest starting position of such a slice."
      ],
      "metadata": {
        "nteract": {
          "transient": {
            "deleting": false
          }
        }
      }
    },
    {
      "cell_type": "code",
      "source": [
        "testArr = [4,2,2,5,1,5,8]\n",
        "testArr.slice(-2)\n",
        "function minAvgSlice(arr) {\n",
        "  sum = (array) => {\n",
        "    return array.reduce((a,b) => a+b)\n",
        "  }\n",
        "  currentMinAvg = sum(arr.slice(0,2)) / 2\n",
        "  currentPos = 0\n",
        "  \n",
        "  for (let i = 0; i < testArr.length - 2; i++) {\n",
        "    if (sum(arr.slice(i, i + 2)) / 2 < currentMinAvg) {\n",
        "      currentMinAvg = sum(arr.slice(i, i + 2)) / 2\n",
        "      currentPos = i\n",
        "    } \n",
        "    if (sum(arr.slice(i, i + 3)) / 2 < currentMinAvg) {\n",
        "      currentMinAvg = sum(arr.slice(i, i + 3)) / 3\n",
        "      currentPos = i\n",
        "    }\n",
        "  }\n",
        "  if (sum(arr.slice(-2)) / 2 < currentMinAvg) {\n",
        "      currentMinAvg = sum(arr.slice(i, i + 3)) / 3\n",
        "      currentPos = i\n",
        "  }\n",
        "  return currentPos\n",
        "}"
      ],
      "outputs": [
        {
          "output_type": "execute_result",
          "execution_count": 22,
          "data": {
            "text/plain": [
              "[ 5, 8 ]"
            ]
          },
          "metadata": {}
        }
      ],
      "execution_count": 22,
      "metadata": {
        "collapsed": true,
        "outputExpanded": false,
        "jupyter": {
          "source_hidden": false,
          "outputs_hidden": false
        },
        "nteract": {
          "transient": {
            "deleting": false
          }
        },
        "execution": {
          "iopub.status.busy": "2020-05-10T13:35:51.730Z",
          "iopub.execute_input": "2020-05-10T13:35:51.742Z",
          "iopub.status.idle": "2020-05-10T13:35:51.761Z",
          "shell.execute_reply": "2020-05-10T13:35:50.586Z"
        }
      }
    },
    {
      "cell_type": "code",
      "source": [
        "minAvgSlice(testArr)"
      ],
      "outputs": [
        {
          "output_type": "execute_result",
          "execution_count": 23,
          "data": {
            "text/plain": [
              "1"
            ]
          },
          "metadata": {}
        }
      ],
      "execution_count": 23,
      "metadata": {
        "collapsed": true,
        "outputExpanded": false,
        "jupyter": {
          "source_hidden": false,
          "outputs_hidden": false
        },
        "nteract": {
          "transient": {
            "deleting": false
          }
        },
        "execution": {
          "iopub.status.busy": "2020-05-10T13:35:51.777Z",
          "iopub.execute_input": "2020-05-10T13:35:51.787Z",
          "iopub.status.idle": "2020-05-10T13:35:51.805Z",
          "shell.execute_reply": "2020-05-10T13:35:50.597Z"
        }
      }
    },
    {
      "cell_type": "markdown",
      "source": [
        "## Max Product of Three\n",
        "Write a function:\n",
        "\n",
        "    function solution(A);\n",
        "\n",
        "that, given a non-empty array A, returns the value of the maximal product of any triplet."
      ],
      "metadata": {
        "nteract": {
          "transient": {
            "deleting": false
          }
        }
      }
    },
    {
      "cell_type": "code",
      "source": [
        "theArray = [-3,1,2,-2,5,6]\n",
        "maxProductOfThree = (arr) => {\n",
        "  temp = theArray.slice().sort((a,b) => b-a)\n",
        "  return temp\n",
        "}\n",
        "multiply = (arr) => {\n",
        "  return arr.reduce((a,b) => a*b)\n",
        "}"
      ],
      "outputs": [
        {
          "output_type": "execute_result",
          "execution_count": 24,
          "data": {
            "text/plain": [
              "[Function: multiply]"
            ]
          },
          "metadata": {}
        }
      ],
      "execution_count": 24,
      "metadata": {
        "collapsed": true,
        "outputExpanded": false,
        "jupyter": {
          "source_hidden": false,
          "outputs_hidden": false
        },
        "nteract": {
          "transient": {
            "deleting": false
          }
        },
        "execution": {
          "iopub.status.busy": "2020-05-10T13:35:51.822Z",
          "iopub.execute_input": "2020-05-10T13:35:51.834Z",
          "iopub.status.idle": "2020-05-10T13:35:51.852Z",
          "shell.execute_reply": "2020-05-10T13:35:50.608Z"
        }
      }
    },
    {
      "cell_type": "code",
      "source": [
        "topThree = maxProductOfThree(theArray).slice(0,3)\n",
        "multiply(topThree)"
      ],
      "outputs": [
        {
          "output_type": "execute_result",
          "execution_count": 25,
          "data": {
            "text/plain": [
              "60"
            ]
          },
          "metadata": {}
        }
      ],
      "execution_count": 25,
      "metadata": {
        "collapsed": true,
        "outputExpanded": false,
        "jupyter": {
          "source_hidden": false,
          "outputs_hidden": false
        },
        "nteract": {
          "transient": {
            "deleting": false
          }
        },
        "execution": {
          "iopub.status.busy": "2020-05-10T13:35:51.868Z",
          "iopub.execute_input": "2020-05-10T13:35:51.879Z",
          "iopub.status.idle": "2020-05-10T13:35:51.897Z",
          "shell.execute_reply": "2020-05-10T13:35:50.619Z"
        }
      }
    },
    {
      "cell_type": "code",
      "source": [
        "testBrackets = '{([()])}'\n",
        "brackets = (string) => {\n",
        "  returnVal = false\n",
        "  pairs = {\n",
        "    '{': '}',\n",
        "    '(': ')',\n",
        "    '[': ']',\n",
        "  }\n",
        "  opening = new Set()\n",
        "  for (let [k] of Object.keys(pairs)) {\n",
        "    opening.add(k)\n",
        "  }\n",
        "  stack = []\n",
        "  splitString = string.split('')\n",
        "  for (let i = 0; i < splitString.length; i++) {\n",
        "    if (opening.has(splitString[i])) {\n",
        "      stack.push(splitString[i])\n",
        "    } else {\n",
        "      latest = stack.pop()\n",
        "      if (pairs[latest] !== splitString[i]) {\n",
        "        return returnVal\n",
        "      }\n",
        "    }\n",
        "  }\n",
        "  if (stack.length === 0) {\n",
        "    returnVal = true\n",
        "  }\n",
        "  return returnVal\n",
        "}"
      ],
      "outputs": [
        {
          "output_type": "execute_result",
          "execution_count": 26,
          "data": {
            "text/plain": [
              "[Function: brackets]"
            ]
          },
          "metadata": {}
        }
      ],
      "execution_count": 26,
      "metadata": {
        "collapsed": true,
        "outputExpanded": false,
        "jupyter": {
          "source_hidden": false,
          "outputs_hidden": false
        },
        "nteract": {
          "transient": {
            "deleting": false
          }
        },
        "execution": {
          "iopub.status.busy": "2020-05-10T13:35:51.915Z",
          "iopub.execute_input": "2020-05-10T13:35:51.925Z",
          "iopub.status.idle": "2020-05-10T13:35:51.945Z",
          "shell.execute_reply": "2020-05-10T13:35:50.630Z"
        }
      }
    },
    {
      "cell_type": "code",
      "source": [
        "brackets(testBrackets)"
      ],
      "outputs": [
        {
          "output_type": "execute_result",
          "execution_count": 27,
          "data": {
            "text/plain": [
              "true"
            ]
          },
          "metadata": {}
        }
      ],
      "execution_count": 27,
      "metadata": {
        "collapsed": true,
        "outputExpanded": false,
        "jupyter": {
          "source_hidden": false,
          "outputs_hidden": false
        },
        "nteract": {
          "transient": {
            "deleting": false
          }
        },
        "execution": {
          "iopub.status.busy": "2020-05-10T13:35:51.962Z",
          "iopub.execute_input": "2020-05-10T13:35:51.972Z",
          "iopub.status.idle": "2020-05-10T13:35:51.990Z",
          "shell.execute_reply": "2020-05-10T13:35:50.644Z"
        }
      }
    },
    {
      "cell_type": "markdown",
      "source": [
        "## Find the least number of blocks\n",
        "You are going to build a stone wall. The wall should be straight and N meters long, and its thickness should be constant; however, it should have different heights in different places. The height of the wall is specified by an array H of N positive integers. H[I] is the height of the wall from I to I+1 meters to the right of its left end. In particular, H[0] is the height of the wall's left end and H[N−1] is the height of the wall's right end.\n",
        "\n",
        "The wall should be built of cuboid stone blocks (that is, all sides of such blocks are rectangular). Your task is to compute the minimum number of blocks needed to build the wall.\n",
        "\n",
        "Write a function:\n",
        "\n",
        "    class Solution { public int solution(int[] H); }\n",
        "\n",
        "that, given an array H of N positive integers specifying the height of the wall, returns the minimum number of blocks needed to build it."
      ],
      "metadata": {
        "nteract": {
          "transient": {
            "deleting": false
          }
        }
      }
    },
    {
      "cell_type": "code",
      "source": [
        "function plockCount(arr) {\n",
        "  min = Math.min(...arr)\n",
        "  console.log(min)\n",
        "  count = 1\n",
        "  if (arr.length === 1) {\n",
        "    return count\n",
        "  }\n",
        "  for (let i = 0; i < arr.length; i++) {\n",
        "    if (heights[i] > min) {\n",
        "      count++\n",
        "      for (let j = i + 1; j < arr.length; j++) {\n",
        "        target = heights[i]\n",
        "        if (heights[j] < target) {\n",
        "          break\n",
        "        } else if (heights[j] === target) {\n",
        "          i++\n",
        "        }\n",
        "      }\n",
        "    }\n",
        "  }\n",
        "  return count\n",
        "}"
      ],
      "outputs": [],
      "execution_count": 28,
      "metadata": {
        "collapsed": true,
        "outputExpanded": false,
        "jupyter": {
          "source_hidden": false,
          "outputs_hidden": false
        },
        "nteract": {
          "transient": {
            "deleting": false
          }
        },
        "execution": {
          "iopub.status.busy": "2020-05-10T13:35:52.007Z",
          "iopub.execute_input": "2020-05-10T13:35:52.017Z",
          "iopub.status.idle": "2020-05-10T13:35:52.028Z",
          "shell.execute_reply": "2020-05-10T13:35:50.655Z"
        }
      }
    },
    {
      "cell_type": "code",
      "source": [
        "heights = [8,8,5,7,9,8,7,4,8]\n",
        "plockCount(heights)"
      ],
      "outputs": [
        {
          "output_type": "stream",
          "name": "stdout",
          "text": [
            "4\n"
          ]
        },
        {
          "output_type": "execute_result",
          "execution_count": 29,
          "data": {
            "text/plain": [
              "7"
            ]
          },
          "metadata": {}
        }
      ],
      "execution_count": 29,
      "metadata": {
        "collapsed": true,
        "outputExpanded": false,
        "jupyter": {
          "source_hidden": false,
          "outputs_hidden": false
        },
        "nteract": {
          "transient": {
            "deleting": false
          }
        },
        "execution": {
          "iopub.status.busy": "2020-05-10T13:35:52.044Z",
          "iopub.execute_input": "2020-05-10T13:35:52.055Z",
          "iopub.status.idle": "2020-05-10T13:35:52.078Z",
          "shell.execute_reply": "2020-05-10T13:35:50.666Z"
        }
      }
    },
    {
      "cell_type": "code",
      "source": [
        "findFactors = (num) => {\n",
        "  maxNum = Math.floor(Math.sqrt(num))\n",
        "  count = 0\n",
        "  for (let i = 1; i <= maxNum; i++) {\n",
        "    if (num % i === 0) {\n",
        "      count += 2\n",
        "    }\n",
        "  }\n",
        "  return count\n",
        "}"
      ],
      "outputs": [
        {
          "output_type": "execute_result",
          "execution_count": 30,
          "data": {
            "text/plain": [
              "[Function: findFactors]"
            ]
          },
          "metadata": {}
        }
      ],
      "execution_count": 30,
      "metadata": {
        "collapsed": true,
        "outputExpanded": false,
        "jupyter": {
          "source_hidden": false,
          "outputs_hidden": false
        },
        "nteract": {
          "transient": {
            "deleting": false
          }
        },
        "execution": {
          "iopub.status.busy": "2020-05-10T13:35:52.094Z",
          "iopub.execute_input": "2020-05-10T13:35:52.104Z",
          "iopub.status.idle": "2020-05-10T13:35:52.122Z",
          "shell.execute_reply": "2020-05-10T13:35:50.677Z"
        }
      }
    },
    {
      "cell_type": "code",
      "source": [
        "findFactors(24)"
      ],
      "outputs": [
        {
          "output_type": "execute_result",
          "execution_count": 31,
          "data": {
            "text/plain": [
              "8"
            ]
          },
          "metadata": {}
        }
      ],
      "execution_count": 31,
      "metadata": {
        "collapsed": true,
        "outputExpanded": false,
        "jupyter": {
          "source_hidden": false,
          "outputs_hidden": false
        },
        "nteract": {
          "transient": {
            "deleting": false
          }
        },
        "execution": {
          "iopub.status.busy": "2020-05-10T13:35:52.140Z",
          "iopub.execute_input": "2020-05-10T13:35:52.151Z",
          "iopub.status.idle": "2020-05-10T13:35:52.168Z",
          "shell.execute_reply": "2020-05-10T13:35:50.688Z"
        }
      }
    },
    {
      "cell_type": "markdown",
      "source": [
        "## Find the Greatest Common Denominator\n",
        "1. Euclid's Algorithm"
      ],
      "metadata": {
        "nteract": {
          "transient": {
            "deleting": false
          }
        }
      }
    },
    {
      "cell_type": "code",
      "source": [
        "function gcd(a,b) {\n",
        "  if (b === 0) {\n",
        "    return a\n",
        "  }\n",
        "  return gcd(b, a % b)\n",
        "}"
      ],
      "outputs": [],
      "execution_count": 32,
      "metadata": {
        "collapsed": true,
        "outputExpanded": false,
        "jupyter": {
          "source_hidden": false,
          "outputs_hidden": false
        },
        "nteract": {
          "transient": {
            "deleting": false
          }
        },
        "execution": {
          "iopub.status.busy": "2020-05-10T13:35:52.184Z",
          "iopub.execute_input": "2020-05-10T13:35:52.194Z",
          "iopub.status.idle": "2020-05-10T13:35:52.206Z",
          "shell.execute_reply": "2020-05-10T13:35:50.698Z"
        }
      }
    },
    {
      "cell_type": "code",
      "source": [
        "gcd(10, 30)"
      ],
      "outputs": [
        {
          "output_type": "execute_result",
          "execution_count": 33,
          "data": {
            "text/plain": [
              "10"
            ]
          },
          "metadata": {}
        }
      ],
      "execution_count": 33,
      "metadata": {
        "collapsed": true,
        "outputExpanded": false,
        "jupyter": {
          "source_hidden": false,
          "outputs_hidden": false
        },
        "nteract": {
          "transient": {
            "deleting": false
          }
        },
        "execution": {
          "iopub.status.busy": "2020-05-10T13:35:52.222Z",
          "iopub.execute_input": "2020-05-10T13:35:52.232Z",
          "iopub.status.idle": "2020-05-10T13:35:52.249Z",
          "shell.execute_reply": "2020-05-10T13:35:50.710Z"
        }
      }
    },
    {
      "cell_type": "code",
      "source": [
        "counter = 5\n",
        "eaten = 0\n",
        "loopArr = new Array(100).fill(1)\n",
        "while (true) {\n",
        "  if (counter > 100) {\n",
        "    counter = counter - 100\n",
        "  }\n",
        "  if (loopArr[counter] === 0) {\n",
        "    break\n",
        "  }\n",
        "  loopArr[counter] = 0\n",
        "  eaten++\n",
        "  counter += 5\n",
        "}"
      ],
      "outputs": [],
      "execution_count": 34,
      "metadata": {
        "collapsed": true,
        "outputExpanded": false,
        "jupyter": {
          "source_hidden": false,
          "outputs_hidden": false
        },
        "nteract": {
          "transient": {
            "deleting": false
          }
        },
        "execution": {
          "iopub.status.busy": "2020-05-10T13:35:52.265Z",
          "iopub.execute_input": "2020-05-10T13:35:52.276Z",
          "iopub.status.idle": "2020-05-10T13:35:52.287Z",
          "shell.execute_reply": "2020-05-10T13:35:50.721Z"
        }
      }
    },
    {
      "cell_type": "markdown",
      "source": [
        "## Number of chocolates Eaten\n",
        "Write a function:\n",
        "\n",
        "    function solution(N, M);\n",
        "\n",
        "that, given two positive integers N and M, returns the number of chocolates that you will eat."
      ],
      "metadata": {
        "nteract": {
          "transient": {
            "deleting": false
          }
        }
      }
    },
    {
      "cell_type": "code",
      "source": [
        "chocolatesEaten = (number, skip) => {\n",
        "  //find the greatest common denominator\n",
        "  greatCommDem = (a, b) => {\n",
        "    if (skip === 0) {\n",
        "      return number\n",
        "    }\n",
        "    return (b, a % b)\n",
        "  }\n",
        "  gcd = greatCommDem(number, skip)\n",
        "  return number / gcd\n",
        "}"
      ],
      "outputs": [
        {
          "output_type": "execute_result",
          "execution_count": 35,
          "data": {
            "text/plain": [
              "[Function: chocolatesEaten]"
            ]
          },
          "metadata": {}
        }
      ],
      "execution_count": 35,
      "metadata": {
        "collapsed": true,
        "outputExpanded": false,
        "jupyter": {
          "source_hidden": false,
          "outputs_hidden": false
        },
        "nteract": {
          "transient": {
            "deleting": false
          }
        },
        "execution": {
          "iopub.status.busy": "2020-05-10T13:35:52.305Z",
          "iopub.execute_input": "2020-05-10T13:35:52.316Z",
          "iopub.status.idle": "2020-05-10T13:35:52.333Z",
          "shell.execute_reply": "2020-05-10T13:35:50.731Z"
        }
      }
    },
    {
      "cell_type": "code",
      "source": [
        "chocolatesEaten(10,4)"
      ],
      "outputs": [
        {
          "output_type": "execute_result",
          "execution_count": 37,
          "data": {
            "text/plain": [
              "5"
            ]
          },
          "metadata": {}
        }
      ],
      "execution_count": 37,
      "metadata": {
        "collapsed": true,
        "outputExpanded": false,
        "jupyter": {
          "source_hidden": false,
          "outputs_hidden": false
        },
        "nteract": {
          "transient": {
            "deleting": false
          }
        },
        "execution": {
          "iopub.status.busy": "2020-05-10T13:36:02.089Z",
          "iopub.execute_input": "2020-05-10T13:36:02.104Z",
          "iopub.status.idle": "2020-05-10T13:36:02.131Z",
          "shell.execute_reply": "2020-05-10T13:36:02.145Z"
        }
      }
    },
    {
      "cell_type": "code",
      "source": [
        "function fibonacci(num){\n",
        "  var a = 1, b = 0, final = [], newNum = num + 1, temp;\n",
        "\n",
        "  while (newNum > 0){\n",
        "    temp = a;\n",
        "    final.push(temp)\n",
        "    a = a + b;\n",
        "    b = temp;\n",
        "    newNum--\n",
        "  }\n",
        "    returnNum = final.reduce((a, b) => {return a + b}, 0)\n",
        "    returnNum *= 4\n",
        "    return returnNum\n",
        "}"
      ],
      "outputs": [],
      "execution_count": 39,
      "metadata": {
        "collapsed": true,
        "outputExpanded": false,
        "jupyter": {
          "source_hidden": false,
          "outputs_hidden": false
        },
        "nteract": {
          "transient": {
            "deleting": false
          }
        },
        "execution": {
          "iopub.status.busy": "2020-05-10T13:36:14.785Z",
          "iopub.execute_input": "2020-05-10T13:36:14.797Z",
          "iopub.status.idle": "2020-05-10T13:36:14.814Z",
          "shell.execute_reply": "2020-05-10T13:36:14.828Z"
        }
      }
    },
    {
      "cell_type": "code",
      "source": [
        "fibonacci(5)"
      ],
      "outputs": [
        {
          "output_type": "execute_result",
          "execution_count": 41,
          "data": {
            "text/plain": [
              "80"
            ]
          },
          "metadata": {}
        }
      ],
      "execution_count": 41,
      "metadata": {
        "collapsed": true,
        "outputExpanded": false,
        "jupyter": {
          "source_hidden": false,
          "outputs_hidden": false
        },
        "nteract": {
          "transient": {
            "deleting": false
          }
        },
        "execution": {
          "iopub.status.busy": "2020-05-10T13:39:41.649Z",
          "iopub.execute_input": "2020-05-10T13:39:41.665Z",
          "iopub.status.idle": "2020-05-10T13:39:41.697Z",
          "shell.execute_reply": "2020-05-10T13:39:41.711Z"
        }
      }
    },
    {
      "cell_type": "code",
      "source": [
        "function fibs(num) {\n",
        "  a = 1, b = 0, newNum = num , temp = null, final = []\n",
        "  while( newNum > 0) {\n",
        "    temp = a\n",
        "    final.push(temp)\n",
        "    a = a + b\n",
        "    b = temp;\n",
        "    newNum --\n",
        "  }\n",
        "  return final\n",
        "}"
      ],
      "outputs": [],
      "execution_count": 44,
      "metadata": {
        "collapsed": true,
        "outputExpanded": false,
        "jupyter": {
          "source_hidden": false,
          "outputs_hidden": false
        },
        "nteract": {
          "transient": {
            "deleting": false
          }
        },
        "execution": {
          "iopub.status.busy": "2020-05-10T13:42:06.017Z",
          "iopub.execute_input": "2020-05-10T13:42:06.032Z",
          "iopub.status.idle": "2020-05-10T13:42:06.053Z",
          "shell.execute_reply": "2020-05-10T13:42:06.067Z"
        }
      }
    },
    {
      "cell_type": "code",
      "source": [
        "fibs(7)"
      ],
      "outputs": [
        {
          "output_type": "execute_result",
          "execution_count": 46,
          "data": {
            "text/plain": [
              "[\n",
              "  1, 1,  2, 3,\n",
              "  5, 8, 13\n",
              "]"
            ]
          },
          "metadata": {}
        }
      ],
      "execution_count": 46,
      "metadata": {
        "collapsed": true,
        "outputExpanded": false,
        "jupyter": {
          "source_hidden": false,
          "outputs_hidden": false
        },
        "nteract": {
          "transient": {
            "deleting": false
          }
        },
        "execution": {
          "iopub.status.busy": "2020-05-10T13:42:11.297Z",
          "iopub.execute_input": "2020-05-10T13:42:11.311Z",
          "iopub.status.idle": "2020-05-10T13:42:11.335Z",
          "shell.execute_reply": "2020-05-10T13:42:11.348Z"
        }
      }
    },
    {
      "cell_type": "code",
      "source": [
        "function createTestFlipFirst(arr) {\n",
        "  testArr = []\n",
        "  previous = null\n",
        "  if (arr[0] === 0) {\n",
        "    testArr.push(1)\n",
        "    previous = 1\n",
        "  } else {\n",
        "    testArr.push(0)\n",
        "    previous = 0\n",
        "  }\n",
        "  for (let i = 0; i < arr.length - 1; i++) {\n",
        "    if (previous === 1) {\n",
        "      testArr.push(0)\n",
        "      previous = 0\n",
        "    } else {\n",
        "      testArr.push(1)\n",
        "      previous = 1\n",
        "    }\n",
        "  }\n",
        "  return testArr\n",
        "}\n",
        "\n",
        "function createTestFlipKeep(arr) {\n",
        "  testArr = []\n",
        "  previous = null\n",
        "  testArr.push(arr[0])\n",
        "  previous = arr[0]\n",
        "  for (let i = 0; i < arr.length - 1; i++) {\n",
        "    if (previous === 1) {\n",
        "      testArr.push(0)\n",
        "      previous = 0\n",
        "    } else {\n",
        "      testArr.push(1)\n",
        "      previous = 1\n",
        "    }\n",
        "  }\n",
        "  return testArr\n",
        "}\n"
      ],
      "outputs": [],
      "execution_count": 64,
      "metadata": {
        "collapsed": true,
        "outputExpanded": false,
        "jupyter": {
          "source_hidden": false,
          "outputs_hidden": false
        },
        "nteract": {
          "transient": {
            "deleting": false
          }
        },
        "execution": {
          "iopub.status.busy": "2020-05-10T14:31:20.509Z",
          "iopub.execute_input": "2020-05-10T14:31:20.529Z",
          "iopub.status.idle": "2020-05-10T14:31:20.555Z",
          "shell.execute_reply": "2020-05-10T14:31:20.568Z"
        }
      }
    },
    {
      "cell_type": "code",
      "source": [
        "function solution(blocks) {\n",
        "    const startingBlock = Math.min(...blocks)\n",
        "    const startingIndex = blocks.findIndex((x) => x===startingBlock)\n",
        "    let rightCounter = startingIndex\n",
        "    let leftCounter = startingIndex\n",
        "    \n",
        "    while(blocks[rightCounter + 1] >= blocks[rightCounter]) {\n",
        "        rightCounter++\n",
        "        console.log(rightCounter)\n",
        "    }\n",
        "    \n",
        "    while(blocks[leftCounter - 1] >= blocks[leftCounter]) {\n",
        "        leftCounter--\n",
        "        console.log(leftCounter)\n",
        "    }\n",
        "    \n",
        "    return rightCounter + leftCounter + 1\n",
        "    \n",
        "}\n"
      ],
      "outputs": [],
      "execution_count": 72,
      "metadata": {
        "collapsed": true,
        "outputExpanded": false,
        "jupyter": {
          "source_hidden": false,
          "outputs_hidden": false
        },
        "nteract": {
          "transient": {
            "deleting": false
          }
        },
        "execution": {
          "iopub.status.busy": "2020-05-10T15:07:08.545Z",
          "iopub.execute_input": "2020-05-10T15:07:08.558Z",
          "iopub.status.idle": "2020-05-10T15:07:08.579Z",
          "shell.execute_reply": "2020-05-10T15:07:08.593Z"
        }
      }
    },
    {
      "cell_type": "code",
      "source": [
        "test = [1,5,5,2,6]\n",
        "tempOne = test.slice(0,2)\n",
        "tempTwo = test.slice(3)\n",
        "tempThree = tempOne.concat(tempTwo)"
      ],
      "outputs": [
        {
          "output_type": "execute_result",
          "execution_count": 77,
          "data": {
            "text/plain": [
              "[ 1, 5, 2, 6 ]"
            ]
          },
          "metadata": {}
        }
      ],
      "execution_count": 77,
      "metadata": {
        "collapsed": true,
        "outputExpanded": false,
        "jupyter": {
          "source_hidden": false,
          "outputs_hidden": false
        },
        "nteract": {
          "transient": {
            "deleting": false
          }
        },
        "execution": {
          "iopub.status.busy": "2020-05-10T15:20:05.812Z",
          "iopub.execute_input": "2020-05-10T15:20:05.829Z",
          "iopub.status.idle": "2020-05-10T15:20:05.861Z",
          "shell.execute_reply": "2020-05-10T15:20:05.874Z"
        }
      }
    },
    {
      "cell_type": "code",
      "source": [],
      "outputs": [],
      "execution_count": null,
      "metadata": {
        "collapsed": true,
        "outputExpanded": false,
        "jupyter": {
          "source_hidden": false,
          "outputs_hidden": false
        },
        "nteract": {
          "transient": {
            "deleting": false
          }
        }
      }
    }
  ],
  "metadata": {
    "kernel_info": {
      "name": "python3"
    },
    "language_info": {
      "name": "javascript",
      "version": "12.10.0",
      "mimetype": "application/javascript",
      "file_extension": ".js"
    },
    "kernelspec": {
      "argv": [
        "/home/zac/anaconda3/bin/python",
        "-m",
        "ipykernel_launcher",
        "-f",
        "{connection_file}"
      ],
      "display_name": "Python 3",
      "language": "python",
      "name": "python3"
    },
    "nteract": {
      "version": "0.23.1"
    }
  },
  "nbformat": 4,
  "nbformat_minor": 0
}